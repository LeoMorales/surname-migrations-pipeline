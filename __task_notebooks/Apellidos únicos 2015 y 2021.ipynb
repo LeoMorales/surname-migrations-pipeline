{
 "cells": [
  {
   "cell_type": "code",
   "execution_count": 1,
   "id": "0f23bd63",
   "metadata": {},
   "outputs": [],
   "source": [
    "import pandas"
   ]
  },
  {
   "cell_type": "code",
   "execution_count": 2,
   "id": "c687bd5e",
   "metadata": {},
   "outputs": [],
   "source": [
    "df = pandas.read_parquet(\"/home/lmorales/work/pipelines/surname_data_pipeline/_products/clean/surnames_2015.parquet\")"
   ]
  },
  {
   "cell_type": "code",
   "execution_count": 3,
   "id": "59bacbea",
   "metadata": {},
   "outputs": [
    {
     "data": {
      "text/html": [
       "<div>\n",
       "<style scoped>\n",
       "    .dataframe tbody tr th:only-of-type {\n",
       "        vertical-align: middle;\n",
       "    }\n",
       "\n",
       "    .dataframe tbody tr th {\n",
       "        vertical-align: top;\n",
       "    }\n",
       "\n",
       "    .dataframe thead th {\n",
       "        text-align: right;\n",
       "    }\n",
       "</style>\n",
       "<table border=\"1\" class=\"dataframe\">\n",
       "  <thead>\n",
       "    <tr style=\"text-align: right;\">\n",
       "      <th></th>\n",
       "      <th>family_name</th>\n",
       "      <th>surname</th>\n",
       "      <th>gender</th>\n",
       "      <th>province_id</th>\n",
       "      <th>department_id</th>\n",
       "      <th>circuit_id</th>\n",
       "    </tr>\n",
       "  </thead>\n",
       "  <tbody>\n",
       "    <tr>\n",
       "      <th>0</th>\n",
       "      <td>ACOSTA</td>\n",
       "      <td>ACOSTA</td>\n",
       "      <td>F</td>\n",
       "      <td>02</td>\n",
       "      <td>02091</td>\n",
       "      <td>139</td>\n",
       "    </tr>\n",
       "    <tr>\n",
       "      <th>1</th>\n",
       "      <td>AGUERREA</td>\n",
       "      <td>AGUERREA</td>\n",
       "      <td>M</td>\n",
       "      <td>02</td>\n",
       "      <td>02091</td>\n",
       "      <td>139</td>\n",
       "    </tr>\n",
       "    <tr>\n",
       "      <th>2</th>\n",
       "      <td>ANELLO</td>\n",
       "      <td>ANELLO</td>\n",
       "      <td>F</td>\n",
       "      <td>02</td>\n",
       "      <td>02091</td>\n",
       "      <td>139</td>\n",
       "    </tr>\n",
       "    <tr>\n",
       "      <th>3</th>\n",
       "      <td>ARAKAKI</td>\n",
       "      <td>ARAKAKI</td>\n",
       "      <td>M</td>\n",
       "      <td>02</td>\n",
       "      <td>02091</td>\n",
       "      <td>139</td>\n",
       "    </tr>\n",
       "    <tr>\n",
       "      <th>4</th>\n",
       "      <td>ARRESE</td>\n",
       "      <td>ARRESE</td>\n",
       "      <td>M</td>\n",
       "      <td>02</td>\n",
       "      <td>02091</td>\n",
       "      <td>139</td>\n",
       "    </tr>\n",
       "  </tbody>\n",
       "</table>\n",
       "</div>"
      ],
      "text/plain": [
       "  family_name   surname gender province_id department_id circuit_id\n",
       "0      ACOSTA    ACOSTA      F          02         02091        139\n",
       "1    AGUERREA  AGUERREA      M          02         02091        139\n",
       "2      ANELLO    ANELLO      F          02         02091        139\n",
       "3     ARAKAKI   ARAKAKI      M          02         02091        139\n",
       "4      ARRESE    ARRESE      M          02         02091        139"
      ]
     },
     "execution_count": 3,
     "metadata": {},
     "output_type": "execute_result"
    }
   ],
   "source": [
    "df.head()"
   ]
  },
  {
   "cell_type": "code",
   "execution_count": 5,
   "id": "d0e97174",
   "metadata": {},
   "outputs": [
    {
     "data": {
      "text/plain": [
       "373709"
      ]
     },
     "execution_count": 5,
     "metadata": {},
     "output_type": "execute_result"
    }
   ],
   "source": [
    "len(df['surname'].unique())"
   ]
  },
  {
   "cell_type": "code",
   "execution_count": null,
   "id": "caf25c19",
   "metadata": {},
   "outputs": [],
   "source": []
  },
  {
   "cell_type": "code",
   "execution_count": 6,
   "id": "8e088e48",
   "metadata": {},
   "outputs": [],
   "source": [
    "df_2021 = pandas.read_parquet(\"/home/lmorales/work/pipelines/surname_data_pipeline/_products/clean/surnames_2021.parquet\")"
   ]
  },
  {
   "cell_type": "code",
   "execution_count": 7,
   "id": "4b03d7dc",
   "metadata": {},
   "outputs": [
    {
     "data": {
      "text/html": [
       "<div>\n",
       "<style scoped>\n",
       "    .dataframe tbody tr th:only-of-type {\n",
       "        vertical-align: middle;\n",
       "    }\n",
       "\n",
       "    .dataframe tbody tr th {\n",
       "        vertical-align: top;\n",
       "    }\n",
       "\n",
       "    .dataframe thead th {\n",
       "        text-align: right;\n",
       "    }\n",
       "</style>\n",
       "<table border=\"1\" class=\"dataframe\">\n",
       "  <thead>\n",
       "    <tr style=\"text-align: right;\">\n",
       "      <th></th>\n",
       "      <th>family_name</th>\n",
       "      <th>surname</th>\n",
       "      <th>gender</th>\n",
       "      <th>province_id</th>\n",
       "      <th>department_id</th>\n",
       "      <th>circuit_id</th>\n",
       "    </tr>\n",
       "  </thead>\n",
       "  <tbody>\n",
       "    <tr>\n",
       "      <th>0</th>\n",
       "      <td>SERIO</td>\n",
       "      <td>SERIO</td>\n",
       "      <td>F</td>\n",
       "      <td>02</td>\n",
       "      <td>02049</td>\n",
       "      <td>0080</td>\n",
       "    </tr>\n",
       "    <tr>\n",
       "      <th>1</th>\n",
       "      <td>MALVICH</td>\n",
       "      <td>MALVICH</td>\n",
       "      <td>F</td>\n",
       "      <td>02</td>\n",
       "      <td>02049</td>\n",
       "      <td>0082</td>\n",
       "    </tr>\n",
       "    <tr>\n",
       "      <th>2</th>\n",
       "      <td>CREIMAN</td>\n",
       "      <td>CREIMAN</td>\n",
       "      <td>F</td>\n",
       "      <td>02</td>\n",
       "      <td>02049</td>\n",
       "      <td>0083</td>\n",
       "    </tr>\n",
       "    <tr>\n",
       "      <th>3</th>\n",
       "      <td>AVILA</td>\n",
       "      <td>AVILA</td>\n",
       "      <td>F</td>\n",
       "      <td>02</td>\n",
       "      <td>02049</td>\n",
       "      <td>0083</td>\n",
       "    </tr>\n",
       "    <tr>\n",
       "      <th>4</th>\n",
       "      <td>CATALDO</td>\n",
       "      <td>CATALDO</td>\n",
       "      <td>F</td>\n",
       "      <td>02</td>\n",
       "      <td>02049</td>\n",
       "      <td>0081</td>\n",
       "    </tr>\n",
       "  </tbody>\n",
       "</table>\n",
       "</div>"
      ],
      "text/plain": [
       "  family_name  surname gender province_id department_id circuit_id\n",
       "0       SERIO    SERIO      F          02         02049       0080\n",
       "1     MALVICH  MALVICH      F          02         02049       0082\n",
       "2     CREIMAN  CREIMAN      F          02         02049       0083\n",
       "3       AVILA    AVILA      F          02         02049       0083\n",
       "4     CATALDO  CATALDO      F          02         02049       0081"
      ]
     },
     "execution_count": 7,
     "metadata": {},
     "output_type": "execute_result"
    }
   ],
   "source": [
    "df_2021.head()"
   ]
  },
  {
   "cell_type": "code",
   "execution_count": 8,
   "id": "7d189f33",
   "metadata": {},
   "outputs": [
    {
     "data": {
      "text/plain": [
       "335393"
      ]
     },
     "execution_count": 8,
     "metadata": {},
     "output_type": "execute_result"
    }
   ],
   "source": [
    "len(df_2021['surname'].unique())"
   ]
  },
  {
   "cell_type": "code",
   "execution_count": null,
   "id": "6466351c",
   "metadata": {},
   "outputs": [],
   "source": []
  }
 ],
 "metadata": {
  "kernelspec": {
   "display_name": "Python 3 (ipykernel)",
   "language": "python",
   "name": "python3"
  },
  "language_info": {
   "codemirror_mode": {
    "name": "ipython",
    "version": 3
   },
   "file_extension": ".py",
   "mimetype": "text/x-python",
   "name": "python",
   "nbconvert_exporter": "python",
   "pygments_lexer": "ipython3",
   "version": "3.9.9"
  }
 },
 "nbformat": 4,
 "nbformat_minor": 5
}
