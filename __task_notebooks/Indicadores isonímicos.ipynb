{
 "cells": [
  {
   "cell_type": "code",
   "execution_count": 56,
   "id": "7eaf4d4e",
   "metadata": {},
   "outputs": [],
   "source": [
    "import pandas\n",
    "from surnames_package import isonymic\n"
   ]
  },
  {
   "cell_type": "code",
   "execution_count": 70,
   "id": "746adbf6",
   "metadata": {},
   "outputs": [],
   "source": [
    "DF_COLUMNS = ['division', 'n', 'ins', 'fst', 'fishers_alpha', 'A', 'B' ]"
   ]
  },
  {
   "cell_type": "code",
   "execution_count": 71,
   "id": "1ec6d772",
   "metadata": {},
   "outputs": [],
   "source": [
    "df = pandas.read_parquet(\"/home/lmorales/work/pipelines/surname_data_pipeline/_products/clean/surnames_2015.parquet\")"
   ]
  },
  {
   "cell_type": "markdown",
   "id": "c34826c7",
   "metadata": {},
   "source": [
    "# Nacional"
   ]
  },
  {
   "cell_type": "code",
   "execution_count": 58,
   "id": "9758cde5",
   "metadata": {},
   "outputs": [],
   "source": [
    "isonymic_result = isonymic.get_isonymic_data(df['surname'])\n",
    "\n",
    "data = [[\"Argentina\"] + list(isonymic_result.values())]\n",
    "columns = [\"division\"] + list(isonymic_result.keys())\n",
    "\n",
    "output_df = pandas.DataFrame(data=data, columns=columns)"
   ]
  },
  {
   "cell_type": "code",
   "execution_count": 72,
   "id": "ee2376bc",
   "metadata": {},
   "outputs": [
    {
     "data": {
      "text/html": [
       "<div>\n",
       "<style scoped>\n",
       "    .dataframe tbody tr th:only-of-type {\n",
       "        vertical-align: middle;\n",
       "    }\n",
       "\n",
       "    .dataframe tbody tr th {\n",
       "        vertical-align: top;\n",
       "    }\n",
       "\n",
       "    .dataframe thead th {\n",
       "        text-align: right;\n",
       "    }\n",
       "</style>\n",
       "<table border=\"1\" class=\"dataframe\">\n",
       "  <thead>\n",
       "    <tr style=\"text-align: right;\">\n",
       "      <th></th>\n",
       "      <th>division</th>\n",
       "      <th>n</th>\n",
       "      <th>ins</th>\n",
       "      <th>fst</th>\n",
       "      <th>fishers_alpha</th>\n",
       "      <th>A</th>\n",
       "      <th>B</th>\n",
       "    </tr>\n",
       "  </thead>\n",
       "  <tbody>\n",
       "    <tr>\n",
       "      <th>0</th>\n",
       "      <td>Argentina</td>\n",
       "      <td>30530194</td>\n",
       "      <td>0.001844</td>\n",
       "      <td>0.000461</td>\n",
       "      <td>542.441574</td>\n",
       "      <td>0.003571</td>\n",
       "      <td>0.078897</td>\n",
       "    </tr>\n",
       "  </tbody>\n",
       "</table>\n",
       "</div>"
      ],
      "text/plain": [
       "    division         n       ins       fst  fishers_alpha         A         B\n",
       "0  Argentina  30530194  0.001844  0.000461     542.441574  0.003571  0.078897"
      ]
     },
     "execution_count": 72,
     "metadata": {},
     "output_type": "execute_result"
    }
   ],
   "source": [
    "output_df[DF_COLUMNS]"
   ]
  },
  {
   "cell_type": "markdown",
   "id": "b02ca95f",
   "metadata": {},
   "source": [
    "# Regionales"
   ]
  },
  {
   "cell_type": "code",
   "execution_count": 60,
   "id": "73064930",
   "metadata": {},
   "outputs": [
    {
     "data": {
      "text/html": [
       "<div>\n",
       "<style scoped>\n",
       "    .dataframe tbody tr th:only-of-type {\n",
       "        vertical-align: middle;\n",
       "    }\n",
       "\n",
       "    .dataframe tbody tr th {\n",
       "        vertical-align: top;\n",
       "    }\n",
       "\n",
       "    .dataframe thead th {\n",
       "        text-align: right;\n",
       "    }\n",
       "</style>\n",
       "<table border=\"1\" class=\"dataframe\">\n",
       "  <thead>\n",
       "    <tr style=\"text-align: right;\">\n",
       "      <th></th>\n",
       "      <th>family_name</th>\n",
       "      <th>surname</th>\n",
       "      <th>gender</th>\n",
       "      <th>province_id</th>\n",
       "      <th>department_id</th>\n",
       "      <th>circuit_id</th>\n",
       "    </tr>\n",
       "  </thead>\n",
       "  <tbody>\n",
       "    <tr>\n",
       "      <th>0</th>\n",
       "      <td>ACOSTA</td>\n",
       "      <td>ACOSTA</td>\n",
       "      <td>F</td>\n",
       "      <td>02</td>\n",
       "      <td>02091</td>\n",
       "      <td>139</td>\n",
       "    </tr>\n",
       "    <tr>\n",
       "      <th>1</th>\n",
       "      <td>AGUERREA</td>\n",
       "      <td>AGUERREA</td>\n",
       "      <td>M</td>\n",
       "      <td>02</td>\n",
       "      <td>02091</td>\n",
       "      <td>139</td>\n",
       "    </tr>\n",
       "    <tr>\n",
       "      <th>2</th>\n",
       "      <td>ANELLO</td>\n",
       "      <td>ANELLO</td>\n",
       "      <td>F</td>\n",
       "      <td>02</td>\n",
       "      <td>02091</td>\n",
       "      <td>139</td>\n",
       "    </tr>\n",
       "    <tr>\n",
       "      <th>3</th>\n",
       "      <td>ARAKAKI</td>\n",
       "      <td>ARAKAKI</td>\n",
       "      <td>M</td>\n",
       "      <td>02</td>\n",
       "      <td>02091</td>\n",
       "      <td>139</td>\n",
       "    </tr>\n",
       "    <tr>\n",
       "      <th>4</th>\n",
       "      <td>ARRESE</td>\n",
       "      <td>ARRESE</td>\n",
       "      <td>M</td>\n",
       "      <td>02</td>\n",
       "      <td>02091</td>\n",
       "      <td>139</td>\n",
       "    </tr>\n",
       "  </tbody>\n",
       "</table>\n",
       "</div>"
      ],
      "text/plain": [
       "  family_name   surname gender province_id department_id circuit_id\n",
       "0      ACOSTA    ACOSTA      F          02         02091        139\n",
       "1    AGUERREA  AGUERREA      M          02         02091        139\n",
       "2      ANELLO    ANELLO      F          02         02091        139\n",
       "3     ARAKAKI   ARAKAKI      M          02         02091        139\n",
       "4      ARRESE    ARRESE      M          02         02091        139"
      ]
     },
     "execution_count": 60,
     "metadata": {},
     "output_type": "execute_result"
    }
   ],
   "source": [
    "df.head()"
   ]
  },
  {
   "cell_type": "code",
   "execution_count": 61,
   "id": "a678e500",
   "metadata": {},
   "outputs": [],
   "source": [
    "from surnames_package import utils"
   ]
  },
  {
   "cell_type": "code",
   "execution_count": 62,
   "id": "dc2ad4ce",
   "metadata": {},
   "outputs": [],
   "source": [
    "df = utils.append_province_description(df)"
   ]
  },
  {
   "cell_type": "code",
   "execution_count": 63,
   "id": "2de22585",
   "metadata": {},
   "outputs": [
    {
     "data": {
      "text/html": [
       "<div>\n",
       "<style scoped>\n",
       "    .dataframe tbody tr th:only-of-type {\n",
       "        vertical-align: middle;\n",
       "    }\n",
       "\n",
       "    .dataframe tbody tr th {\n",
       "        vertical-align: top;\n",
       "    }\n",
       "\n",
       "    .dataframe thead th {\n",
       "        text-align: right;\n",
       "    }\n",
       "</style>\n",
       "<table border=\"1\" class=\"dataframe\">\n",
       "  <thead>\n",
       "    <tr style=\"text-align: right;\">\n",
       "      <th></th>\n",
       "      <th>family_name</th>\n",
       "      <th>surname</th>\n",
       "      <th>gender</th>\n",
       "      <th>province_id</th>\n",
       "      <th>department_id</th>\n",
       "      <th>circuit_id</th>\n",
       "      <th>provincia_nombre</th>\n",
       "      <th>region_nombre</th>\n",
       "      <th>region_id</th>\n",
       "    </tr>\n",
       "  </thead>\n",
       "  <tbody>\n",
       "    <tr>\n",
       "      <th>0</th>\n",
       "      <td>ACOSTA</td>\n",
       "      <td>ACOSTA</td>\n",
       "      <td>F</td>\n",
       "      <td>02</td>\n",
       "      <td>02091</td>\n",
       "      <td>139</td>\n",
       "      <td>Ciudad Autónoma de Buenos Aires</td>\n",
       "      <td>Centro</td>\n",
       "      <td>03</td>\n",
       "    </tr>\n",
       "    <tr>\n",
       "      <th>1</th>\n",
       "      <td>AGUERREA</td>\n",
       "      <td>AGUERREA</td>\n",
       "      <td>M</td>\n",
       "      <td>02</td>\n",
       "      <td>02091</td>\n",
       "      <td>139</td>\n",
       "      <td>Ciudad Autónoma de Buenos Aires</td>\n",
       "      <td>Centro</td>\n",
       "      <td>03</td>\n",
       "    </tr>\n",
       "    <tr>\n",
       "      <th>2</th>\n",
       "      <td>ANELLO</td>\n",
       "      <td>ANELLO</td>\n",
       "      <td>F</td>\n",
       "      <td>02</td>\n",
       "      <td>02091</td>\n",
       "      <td>139</td>\n",
       "      <td>Ciudad Autónoma de Buenos Aires</td>\n",
       "      <td>Centro</td>\n",
       "      <td>03</td>\n",
       "    </tr>\n",
       "    <tr>\n",
       "      <th>3</th>\n",
       "      <td>ARAKAKI</td>\n",
       "      <td>ARAKAKI</td>\n",
       "      <td>M</td>\n",
       "      <td>02</td>\n",
       "      <td>02091</td>\n",
       "      <td>139</td>\n",
       "      <td>Ciudad Autónoma de Buenos Aires</td>\n",
       "      <td>Centro</td>\n",
       "      <td>03</td>\n",
       "    </tr>\n",
       "    <tr>\n",
       "      <th>4</th>\n",
       "      <td>ARRESE</td>\n",
       "      <td>ARRESE</td>\n",
       "      <td>M</td>\n",
       "      <td>02</td>\n",
       "      <td>02091</td>\n",
       "      <td>139</td>\n",
       "      <td>Ciudad Autónoma de Buenos Aires</td>\n",
       "      <td>Centro</td>\n",
       "      <td>03</td>\n",
       "    </tr>\n",
       "  </tbody>\n",
       "</table>\n",
       "</div>"
      ],
      "text/plain": [
       "  family_name   surname gender province_id department_id circuit_id  \\\n",
       "0      ACOSTA    ACOSTA      F          02         02091        139   \n",
       "1    AGUERREA  AGUERREA      M          02         02091        139   \n",
       "2      ANELLO    ANELLO      F          02         02091        139   \n",
       "3     ARAKAKI   ARAKAKI      M          02         02091        139   \n",
       "4      ARRESE    ARRESE      M          02         02091        139   \n",
       "\n",
       "                  provincia_nombre region_nombre region_id  \n",
       "0  Ciudad Autónoma de Buenos Aires        Centro        03  \n",
       "1  Ciudad Autónoma de Buenos Aires        Centro        03  \n",
       "2  Ciudad Autónoma de Buenos Aires        Centro        03  \n",
       "3  Ciudad Autónoma de Buenos Aires        Centro        03  \n",
       "4  Ciudad Autónoma de Buenos Aires        Centro        03  "
      ]
     },
     "execution_count": 63,
     "metadata": {},
     "output_type": "execute_result"
    }
   ],
   "source": [
    "df.head()"
   ]
  },
  {
   "cell_type": "code",
   "execution_count": 64,
   "id": "a0a7eea1",
   "metadata": {},
   "outputs": [
    {
     "name": "stdout",
     "output_type": "stream",
     "text": [
      "processing:  Centro ...\n",
      "processing:  Cuyo ...\n",
      "processing:  NEA ...\n",
      "processing:  NOA ...\n",
      "processing:  Patagonia ...\n"
     ]
    }
   ],
   "source": [
    "regional_results = []\n",
    "\n",
    "for (region_name, region_df) in df.groupby('region_nombre'):\n",
    "    \n",
    "    print(\"processing: \", region_name, \"...\")\n",
    "    \n",
    "    region_isonymy = isonymic.get_isonymic_data(region_df['surname'])\n",
    "    region_isonymy['division'] = region_name\n",
    "    \n",
    "    regional_results.append(region_isonymy)\n",
    "        "
   ]
  },
  {
   "cell_type": "code",
   "execution_count": 65,
   "id": "bb8c3fc2",
   "metadata": {},
   "outputs": [
    {
     "data": {
      "text/plain": [
       "{'n': 20364909,\n",
       " 'ins': 0.0016242920139547506,\n",
       " 'A': 0.0048211362005103975,\n",
       " 'B': 0.07566157059675543,\n",
       " 'fishers_alpha': 615.6528453065816,\n",
       " 'fst': 0.00040607300348868765,\n",
       " 'division': 'Centro'}"
      ]
     },
     "execution_count": 65,
     "metadata": {},
     "output_type": "execute_result"
    }
   ],
   "source": [
    "regional_results[0]"
   ]
  },
  {
   "cell_type": "code",
   "execution_count": 67,
   "id": "f90b5e32",
   "metadata": {},
   "outputs": [],
   "source": [
    "regional_df = pandas.DataFrame(regional_results)"
   ]
  },
  {
   "cell_type": "code",
   "execution_count": 74,
   "id": "0cdcbb51",
   "metadata": {},
   "outputs": [
    {
     "data": {
      "text/html": [
       "<div>\n",
       "<style scoped>\n",
       "    .dataframe tbody tr th:only-of-type {\n",
       "        vertical-align: middle;\n",
       "    }\n",
       "\n",
       "    .dataframe tbody tr th {\n",
       "        vertical-align: top;\n",
       "    }\n",
       "\n",
       "    .dataframe thead th {\n",
       "        text-align: right;\n",
       "    }\n",
       "</style>\n",
       "<table border=\"1\" class=\"dataframe\">\n",
       "  <thead>\n",
       "    <tr style=\"text-align: right;\">\n",
       "      <th></th>\n",
       "      <th>division</th>\n",
       "      <th>n</th>\n",
       "      <th>ins</th>\n",
       "      <th>fst</th>\n",
       "      <th>fishers_alpha</th>\n",
       "      <th>A</th>\n",
       "      <th>B</th>\n",
       "    </tr>\n",
       "  </thead>\n",
       "  <tbody>\n",
       "    <tr>\n",
       "      <th>0</th>\n",
       "      <td>Centro</td>\n",
       "      <td>20364909</td>\n",
       "      <td>0.001624</td>\n",
       "      <td>0.000406</td>\n",
       "      <td>615.652845</td>\n",
       "      <td>0.004821</td>\n",
       "      <td>0.075662</td>\n",
       "    </tr>\n",
       "    <tr>\n",
       "      <th>1</th>\n",
       "      <td>Cuyo</td>\n",
       "      <td>2146718</td>\n",
       "      <td>0.002672</td>\n",
       "      <td>0.000668</td>\n",
       "      <td>374.259260</td>\n",
       "      <td>0.008093</td>\n",
       "      <td>0.081320</td>\n",
       "    </tr>\n",
       "    <tr>\n",
       "      <th>2</th>\n",
       "      <td>NEA</td>\n",
       "      <td>2761629</td>\n",
       "      <td>0.003847</td>\n",
       "      <td>0.000962</td>\n",
       "      <td>259.968052</td>\n",
       "      <td>0.007634</td>\n",
       "      <td>0.113487</td>\n",
       "    </tr>\n",
       "    <tr>\n",
       "      <th>3</th>\n",
       "      <td>NOA</td>\n",
       "      <td>3620969</td>\n",
       "      <td>0.003092</td>\n",
       "      <td>0.000773</td>\n",
       "      <td>323.453201</td>\n",
       "      <td>0.004996</td>\n",
       "      <td>0.086641</td>\n",
       "    </tr>\n",
       "    <tr>\n",
       "      <th>4</th>\n",
       "      <td>Patagonia</td>\n",
       "      <td>1635969</td>\n",
       "      <td>0.001711</td>\n",
       "      <td>0.000428</td>\n",
       "      <td>584.290455</td>\n",
       "      <td>0.016400</td>\n",
       "      <td>0.066280</td>\n",
       "    </tr>\n",
       "  </tbody>\n",
       "</table>\n",
       "</div>"
      ],
      "text/plain": [
       "    division         n       ins       fst  fishers_alpha         A         B\n",
       "0     Centro  20364909  0.001624  0.000406     615.652845  0.004821  0.075662\n",
       "1       Cuyo   2146718  0.002672  0.000668     374.259260  0.008093  0.081320\n",
       "2        NEA   2761629  0.003847  0.000962     259.968052  0.007634  0.113487\n",
       "3        NOA   3620969  0.003092  0.000773     323.453201  0.004996  0.086641\n",
       "4  Patagonia   1635969  0.001711  0.000428     584.290455  0.016400  0.066280"
      ]
     },
     "execution_count": 74,
     "metadata": {},
     "output_type": "execute_result"
    }
   ],
   "source": [
    "regional_df[DF_COLUMNS]"
   ]
  },
  {
   "cell_type": "markdown",
   "id": "227f7316",
   "metadata": {},
   "source": [
    "# Provincial"
   ]
  },
  {
   "cell_type": "code",
   "execution_count": 75,
   "id": "d1637cdc",
   "metadata": {},
   "outputs": [
    {
     "name": "stdout",
     "output_type": "stream",
     "text": [
      "processing:  02 ...\n",
      "processing:  06 ...\n",
      "processing:  10 ...\n",
      "processing:  14 ...\n",
      "processing:  18 ...\n",
      "processing:  22 ...\n",
      "processing:  26 ...\n",
      "processing:  30 ...\n",
      "processing:  34 ...\n",
      "processing:  38 ...\n",
      "processing:  42 ...\n",
      "processing:  46 ...\n",
      "processing:  50 ...\n",
      "processing:  54 ...\n",
      "processing:  58 ...\n",
      "processing:  62 ...\n",
      "processing:  66 ...\n",
      "processing:  70 ...\n",
      "processing:  74 ...\n",
      "processing:  78 ...\n",
      "processing:  82 ...\n",
      "processing:  86 ...\n",
      "processing:  90 ...\n",
      "processing:  94 ...\n"
     ]
    }
   ],
   "source": [
    "provincial_results = []\n",
    "\n",
    "for (province_id, province_df) in df.groupby('province_id'):\n",
    "    \n",
    "    print(\"processing: \", province_id, \"...\")\n",
    "    \n",
    "    province_isonymy = isonymic.get_isonymic_data(province_df['surname'])\n",
    "    province_isonymy['division'] = province_id\n",
    "    \n",
    "    provincial_results.append(province_isonymy)"
   ]
  },
  {
   "cell_type": "code",
   "execution_count": 78,
   "id": "b0009303",
   "metadata": {},
   "outputs": [
    {
     "name": "stdout",
     "output_type": "stream",
     "text": [
      "  division         n       ins       fst  fishers_alpha         A         B\n",
      "0       02   2541078  0.001130  0.000283     884.727417  0.020981  0.069208\n",
      "1       06  11384392  0.001822  0.000456     548.738148  0.007330  0.080480\n",
      "2       10    278151  0.004128  0.001032     242.227958  0.013140  0.100726\n",
      "3       14   2645525  0.001914  0.000479     522.449356  0.008753  0.071090\n",
      "4       18    765271  0.005688  0.001422     175.805944  0.011089  0.141447\n",
      "...\n",
      "   division        n       ins       fst  fishers_alpha         A         B\n",
      "19       78   220278  0.002232  0.000558     447.968800  0.042637  0.073326\n",
      "20       82  2552338  0.001456  0.000364     686.773407  0.007425  0.068324\n",
      "21       86   648777  0.005130  0.001283     194.926977  0.008535  0.111944\n",
      "22       90  1079057  0.004000  0.001000     249.969792  0.006622  0.109646\n",
      "23       94   116042  0.002053  0.000513     487.050272  0.069630  0.076378\n"
     ]
    }
   ],
   "source": [
    "provincial_df = pandas.DataFrame(provincial_results)\n",
    "provincial_df = provincial_df[DF_COLUMNS]\n",
    "print(provincial_df.head())\n",
    "print(\"...\")\n",
    "print(provincial_df.tail())"
   ]
  },
  {
   "cell_type": "markdown",
   "id": "f1280414",
   "metadata": {},
   "source": [
    "# Departamental"
   ]
  },
  {
   "cell_type": "code",
   "execution_count": 79,
   "id": "1221a4f3",
   "metadata": {},
   "outputs": [
    {
     "name": "stdout",
     "output_type": "stream",
     "text": [
      "processing:  02007 ...\n",
      "processing:  06560 ...\n",
      "processing:  18063 ...\n",
      "processing:  42014 ...\n",
      "processing:  62077 ...\n",
      "processing:  86147 ...\n"
     ]
    }
   ],
   "source": [
    "departamental_results = []\n",
    "\n",
    "for i, (departament_id, department_df) in enumerate(df.groupby('department_id')):\n",
    "    \n",
    "    if (i % 100 == 0):\n",
    "        print(\"processing: \", departament_id, \"...\")\n",
    "    \n",
    "    department_isonymy = isonymic.get_isonymic_data(department_df['surname'])\n",
    "    department_isonymy['division'] = departament_id\n",
    "    \n",
    "    departamental_results.append(department_isonymy)"
   ]
  },
  {
   "cell_type": "code",
   "execution_count": 81,
   "id": "080558b3",
   "metadata": {},
   "outputs": [
    {
     "name": "stdout",
     "output_type": "stream",
     "text": [
      "    division        n       ins       fst  fishers_alpha         A         B\n",
      "167    14014  1045948  0.002170  0.000542     460.844038  0.015017  0.076668\n",
      "472    82084   968743  0.001630  0.000407     613.627545  0.014645  0.075747\n",
      "79     06427   907826  0.002292  0.000573     436.283561  0.023572  0.086616\n",
      "67     06357   526361  0.001513  0.000378     660.787894  0.037309  0.075727\n",
      "81     06441   496976  0.001348  0.000337     742.004914  0.031903  0.071307\n",
      "...\n",
      "    division    n       ins       fst  fishers_alpha         A         B\n",
      "304    42042  748  0.010670  0.002668      93.719263  0.189840  0.187166\n",
      "250    26063  623  0.009329  0.002332     107.188346  0.181380  0.165329\n",
      "311    42091  397  0.015995  0.003999      62.518445  0.161209  0.236776\n",
      "310    42084  188  0.020541  0.005135      48.683196  0.287234  0.281915\n",
      "526    94028  103  0.012914  0.003228      77.437956  0.844660  0.165049\n"
     ]
    }
   ],
   "source": [
    "departamental_df = pandas.DataFrame(departamental_results)\n",
    "departamental_df = departamental_df[DF_COLUMNS]\n",
    "print(departamental_df.sort_values(by='n', ascending=False).head())\n",
    "print(\"...\")\n",
    "print(departamental_df.sort_values(by='n', ascending=False).tail())"
   ]
  },
  {
   "cell_type": "code",
   "execution_count": null,
   "id": "47e36e54",
   "metadata": {},
   "outputs": [],
   "source": []
  }
 ],
 "metadata": {
  "kernelspec": {
   "display_name": "Python 3 (ipykernel)",
   "language": "python",
   "name": "python3"
  },
  "language_info": {
   "codemirror_mode": {
    "name": "ipython",
    "version": 3
   },
   "file_extension": ".py",
   "mimetype": "text/x-python",
   "name": "python",
   "nbconvert_exporter": "python",
   "pygments_lexer": "ipython3",
   "version": "3.9.9"
  }
 },
 "nbformat": 4,
 "nbformat_minor": 5
}
