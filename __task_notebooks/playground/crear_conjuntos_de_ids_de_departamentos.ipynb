{
 "cells": [
  {
   "cell_type": "code",
   "execution_count": 1,
   "id": "86d05c70",
   "metadata": {},
   "outputs": [],
   "source": [
    "import pandas"
   ]
  },
  {
   "cell_type": "code",
   "execution_count": 2,
   "id": "e2afcbb8",
   "metadata": {},
   "outputs": [],
   "source": [
    "ids_2015 = pandas.read_parquet(\"../_products/isonymy/isonymy-departments-2015.parquet\")['department_id'].unique()"
   ]
  },
  {
   "cell_type": "code",
   "execution_count": 3,
   "id": "56bcc00c",
   "metadata": {},
   "outputs": [
    {
     "data": {
      "text/plain": [
       "527"
      ]
     },
     "execution_count": 3,
     "metadata": {},
     "output_type": "execute_result"
    }
   ],
   "source": [
    "len(ids_2015)"
   ]
  },
  {
   "cell_type": "code",
   "execution_count": 4,
   "id": "b4b7a267",
   "metadata": {},
   "outputs": [],
   "source": [
    "ids_2021 = pandas.read_parquet(\"../_products/isonymy/isonymy-departments-2021.parquet\")['department_id'].unique()"
   ]
  },
  {
   "cell_type": "code",
   "execution_count": 5,
   "id": "ff92a068",
   "metadata": {},
   "outputs": [
    {
     "data": {
      "text/plain": [
       "527"
      ]
     },
     "execution_count": 5,
     "metadata": {},
     "output_type": "execute_result"
    }
   ],
   "source": [
    "len(ids_2021)"
   ]
  },
  {
   "cell_type": "code",
   "execution_count": 6,
   "id": "3cd5c0a7",
   "metadata": {},
   "outputs": [],
   "source": [
    "def potencia(c):\n",
    "    \"\"\"Calcula y devuelve el conjunto potencia del \n",
    "       conjunto c.\n",
    "    \"\"\"\n",
    "    if len(c) == 0:\n",
    "        return [[]]\n",
    "    r = potencia(c[:-1])\n",
    "    return r + [s + [c[-1]] for s in r]\n",
    "\n",
    "def imprime_ordenado(c):\n",
    "    \"\"\"Imprime en la salida estándar todos los\n",
    "       subconjuntos del conjunto c (una lista de\n",
    "       listas) ordenados primero por tamaño y\n",
    "       luego lexicográficamente. Cada subconjunto\n",
    "       se imprime en su propia línea. Los\n",
    "       elementos de los subconjuntos deben ser\n",
    "       comparables entre sí, de otra forma puede\n",
    "       ocurrir un TypeError.\n",
    "    \"\"\"\n",
    "    for e in sorted(c, key=lambda s: (len(s), s)):\n",
    "        print(e)"
   ]
  },
  {
   "cell_type": "code",
   "execution_count": 7,
   "id": "01e3c840",
   "metadata": {},
   "outputs": [
    {
     "name": "stdout",
     "output_type": "stream",
     "text": [
      "[]\n",
      "['02007']\n",
      "['02014']\n",
      "['02021']\n",
      "['02028']\n",
      "['02035']\n",
      "['02007', '02014']\n",
      "['02007', '02021']\n",
      "['02007', '02028']\n",
      "['02007', '02035']\n",
      "['02014', '02021']\n",
      "['02014', '02028']\n",
      "['02014', '02035']\n",
      "['02021', '02028']\n",
      "['02021', '02035']\n",
      "['02028', '02035']\n",
      "['02007', '02014', '02021']\n",
      "['02007', '02014', '02028']\n",
      "['02007', '02014', '02035']\n",
      "['02007', '02021', '02028']\n",
      "['02007', '02021', '02035']\n",
      "['02007', '02028', '02035']\n",
      "['02014', '02021', '02028']\n",
      "['02014', '02021', '02035']\n",
      "['02014', '02028', '02035']\n",
      "['02021', '02028', '02035']\n",
      "['02007', '02014', '02021', '02028']\n",
      "['02007', '02014', '02021', '02035']\n",
      "['02007', '02014', '02028', '02035']\n",
      "['02007', '02021', '02028', '02035']\n",
      "['02014', '02021', '02028', '02035']\n",
      "['02007', '02014', '02021', '02028', '02035']\n"
     ]
    }
   ],
   "source": [
    "imprime_ordenado(\n",
    "    potencia(ids_2015[:5]))"
   ]
  },
  {
   "cell_type": "code",
   "execution_count": null,
   "id": "4c2041a7",
   "metadata": {},
   "outputs": [],
   "source": [
    "id_combinations = pandas.Series(potencia(ids_2015))"
   ]
  },
  {
   "cell_type": "code",
   "execution_count": 1,
   "id": "a5ca432d",
   "metadata": {},
   "outputs": [
    {
     "data": {
      "text/plain": [
       "219673525124179510879420825570604582952621929604585773100622830693937381868724993667921908501166545759273481964527387457187903615990932602002368905315681828864"
      ]
     },
     "execution_count": 1,
     "metadata": {},
     "output_type": "execute_result"
    }
   ],
   "source": [
    "2**526"
   ]
  },
  {
   "cell_type": "code",
   "execution_count": null,
   "id": "3e46941e",
   "metadata": {},
   "outputs": [],
   "source": []
  }
 ],
 "metadata": {
  "kernelspec": {
   "display_name": "Python 3 (ipykernel)",
   "language": "python",
   "name": "python3"
  },
  "language_info": {
   "codemirror_mode": {
    "name": "ipython",
    "version": 3
   },
   "file_extension": ".py",
   "mimetype": "text/x-python",
   "name": "python",
   "nbconvert_exporter": "python",
   "pygments_lexer": "ipython3",
   "version": "3.9.9"
  }
 },
 "nbformat": 4,
 "nbformat_minor": 5
}
