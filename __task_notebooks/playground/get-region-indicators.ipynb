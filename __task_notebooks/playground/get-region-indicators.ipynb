{
 "cells": [
  {
   "cell_type": "code",
   "execution_count": 8,
   "id": "7541a756",
   "metadata": {},
   "outputs": [],
   "source": [
    "%load_ext autoreload\n",
    "%autoreload 2"
   ]
  },
  {
   "cell_type": "code",
   "execution_count": 9,
   "id": "13dd9b33",
   "metadata": {},
   "outputs": [],
   "source": [
    "import pandas"
   ]
  },
  {
   "cell_type": "code",
   "execution_count": 10,
   "id": "e4a6da5f",
   "metadata": {},
   "outputs": [],
   "source": [
    "df = pandas.read_parquet(\n",
    "    \"/home/lmorales/work/pipelines/surname_data_pipeline/_products/clean/surnames_2021.parquet\")"
   ]
  },
  {
   "cell_type": "code",
   "execution_count": 11,
   "id": "2bb083f6",
   "metadata": {},
   "outputs": [
    {
     "data": {
      "text/html": [
       "<div>\n",
       "<style scoped>\n",
       "    .dataframe tbody tr th:only-of-type {\n",
       "        vertical-align: middle;\n",
       "    }\n",
       "\n",
       "    .dataframe tbody tr th {\n",
       "        vertical-align: top;\n",
       "    }\n",
       "\n",
       "    .dataframe thead th {\n",
       "        text-align: right;\n",
       "    }\n",
       "</style>\n",
       "<table border=\"1\" class=\"dataframe\">\n",
       "  <thead>\n",
       "    <tr style=\"text-align: right;\">\n",
       "      <th></th>\n",
       "      <th>family_name</th>\n",
       "      <th>surname</th>\n",
       "      <th>gender</th>\n",
       "      <th>province_id</th>\n",
       "      <th>department_id</th>\n",
       "      <th>circuit_id</th>\n",
       "    </tr>\n",
       "  </thead>\n",
       "  <tbody>\n",
       "    <tr>\n",
       "      <th>0</th>\n",
       "      <td>SERIO</td>\n",
       "      <td>SERIO</td>\n",
       "      <td>F</td>\n",
       "      <td>02</td>\n",
       "      <td>02049</td>\n",
       "      <td>0080</td>\n",
       "    </tr>\n",
       "    <tr>\n",
       "      <th>1</th>\n",
       "      <td>MALVICH</td>\n",
       "      <td>MALVICH</td>\n",
       "      <td>F</td>\n",
       "      <td>02</td>\n",
       "      <td>02049</td>\n",
       "      <td>0082</td>\n",
       "    </tr>\n",
       "    <tr>\n",
       "      <th>2</th>\n",
       "      <td>CREIMAN</td>\n",
       "      <td>CREIMAN</td>\n",
       "      <td>F</td>\n",
       "      <td>02</td>\n",
       "      <td>02049</td>\n",
       "      <td>0083</td>\n",
       "    </tr>\n",
       "    <tr>\n",
       "      <th>3</th>\n",
       "      <td>AVILA</td>\n",
       "      <td>AVILA</td>\n",
       "      <td>F</td>\n",
       "      <td>02</td>\n",
       "      <td>02049</td>\n",
       "      <td>0083</td>\n",
       "    </tr>\n",
       "    <tr>\n",
       "      <th>4</th>\n",
       "      <td>CATALDO</td>\n",
       "      <td>CATALDO</td>\n",
       "      <td>F</td>\n",
       "      <td>02</td>\n",
       "      <td>02049</td>\n",
       "      <td>0081</td>\n",
       "    </tr>\n",
       "  </tbody>\n",
       "</table>\n",
       "</div>"
      ],
      "text/plain": [
       "  family_name  surname gender province_id department_id circuit_id\n",
       "0       SERIO    SERIO      F          02         02049       0080\n",
       "1     MALVICH  MALVICH      F          02         02049       0082\n",
       "2     CREIMAN  CREIMAN      F          02         02049       0083\n",
       "3       AVILA    AVILA      F          02         02049       0083\n",
       "4     CATALDO  CATALDO      F          02         02049       0081"
      ]
     },
     "execution_count": 11,
     "metadata": {},
     "output_type": "execute_result"
    }
   ],
   "source": [
    "df.head()"
   ]
  },
  {
   "cell_type": "code",
   "execution_count": 12,
   "id": "0341d5f8",
   "metadata": {},
   "outputs": [],
   "source": [
    "from surnames_package import utils"
   ]
  },
  {
   "cell_type": "code",
   "execution_count": 13,
   "id": "7852c014",
   "metadata": {},
   "outputs": [],
   "source": [
    "df_tmp = utils.append_cell_description(df.head(20), 'department_id')"
   ]
  },
  {
   "cell_type": "code",
   "execution_count": 14,
   "id": "959bcbb9",
   "metadata": {},
   "outputs": [
    {
     "name": "stdout",
     "output_type": "stream",
     "text": [
      "('Centro', '03')\n",
      "\n"
     ]
    }
   ],
   "source": [
    "for keys, region_df_slice in df_tmp.groupby([\"region_nombre\", \"region_id\"]):\n",
    "    print(keys)\n",
    "    print()"
   ]
  },
  {
   "cell_type": "code",
   "execution_count": 15,
   "id": "84f2b165",
   "metadata": {},
   "outputs": [],
   "source": [
    "from surnames_package import isonymic"
   ]
  },
  {
   "cell_type": "raw",
   "id": "1f8a00e1",
   "metadata": {},
   "source": [
    "def __collect_data_by_column(df, slice_by_column, surname_column: str = 'surname'):    \n",
    "    \"\"\"\n",
    "    cols = cell_id, ins, fst, A, B\n",
    "    \"\"\"\n",
    "    assert slice_by_column in df.columns.values, f\"La columna {slice_by_column} debe estar en el dataframe recibido\"\n",
    "    \n",
    "    data = []\n",
    "    for i, (cell_id, cell_data) in enumerate(df.groupby(slice_by_column)):\n",
    "        if i % 1_000 == 0:\n",
    "            print(f\"__collect_data_by_column -> processed: {i}\")\n",
    "        data.append(\n",
    "            {\n",
    "                'cell_id': cell_id,\n",
    "                'ins': isonymic.get_isonymy(cell_data[surname_column]),\n",
    "                'A': isonymic.get_a_index(cell_data[surname_column]),\n",
    "                'B': isonymic.get_b_index(cell_data[surname_column]),\n",
    "                'n': len(cell_data[surname_column]),\n",
    "                'fishers_alpha':isonymic.get_fishers_alpha(cell_data[surname_column])\n",
    "            }\n",
    "        )\n",
    "    \n",
    "    # pandas.DataFrame(data).assign(fst=isonymic.get_fst_vect(pandas.DataFrame(data)['ins']))\n",
    "    output_df = pandas.DataFrame(data)\n",
    "    output_df['fst'] = isonymic.get_fst_vect(output_df['ins'])\n",
    "    \n",
    "    return output_df"
   ]
  },
  {
   "cell_type": "code",
   "execution_count": 16,
   "id": "d537dfbd",
   "metadata": {},
   "outputs": [
    {
     "name": "stdout",
     "output_type": "stream",
     "text": [
      "\u001b[32mget_isonymic_data_by_cells -> processed: 0\u001b[0m\n"
     ]
    },
    {
     "data": {
      "text/html": [
       "<div>\n",
       "<style scoped>\n",
       "    .dataframe tbody tr th:only-of-type {\n",
       "        vertical-align: middle;\n",
       "    }\n",
       "\n",
       "    .dataframe tbody tr th {\n",
       "        vertical-align: top;\n",
       "    }\n",
       "\n",
       "    .dataframe thead th {\n",
       "        text-align: right;\n",
       "    }\n",
       "</style>\n",
       "<table border=\"1\" class=\"dataframe\">\n",
       "  <thead>\n",
       "    <tr style=\"text-align: right;\">\n",
       "      <th></th>\n",
       "      <th>n</th>\n",
       "      <th>ins</th>\n",
       "      <th>A</th>\n",
       "      <th>B</th>\n",
       "      <th>fishers_alpha</th>\n",
       "      <th>fst</th>\n",
       "      <th>cell_id</th>\n",
       "    </tr>\n",
       "  </thead>\n",
       "  <tbody>\n",
       "    <tr>\n",
       "      <th>0</th>\n",
       "      <td>20</td>\n",
       "      <td>0.05</td>\n",
       "      <td>1.0</td>\n",
       "      <td>0.35</td>\n",
       "      <td>20.0</td>\n",
       "      <td>0.0125</td>\n",
       "      <td>Centro</td>\n",
       "    </tr>\n",
       "  </tbody>\n",
       "</table>\n",
       "</div>"
      ],
      "text/plain": [
       "    n   ins    A     B  fishers_alpha     fst cell_id\n",
       "0  20  0.05  1.0  0.35           20.0  0.0125  Centro"
      ]
     },
     "execution_count": 16,
     "metadata": {},
     "output_type": "execute_result"
    }
   ],
   "source": [
    "isonymic.get_isonymic_data_by_cells(region_df_slice[['surname', 'region_nombre']], 'region_nombre')"
   ]
  },
  {
   "cell_type": "code",
   "execution_count": 17,
   "id": "94b0490e",
   "metadata": {},
   "outputs": [],
   "source": [
    "df = utils.append_cell_description(df, 'department_id')"
   ]
  },
  {
   "cell_type": "code",
   "execution_count": 18,
   "id": "d9cf8b9f",
   "metadata": {},
   "outputs": [
    {
     "data": {
      "text/html": [
       "<div>\n",
       "<style scoped>\n",
       "    .dataframe tbody tr th:only-of-type {\n",
       "        vertical-align: middle;\n",
       "    }\n",
       "\n",
       "    .dataframe tbody tr th {\n",
       "        vertical-align: top;\n",
       "    }\n",
       "\n",
       "    .dataframe thead th {\n",
       "        text-align: right;\n",
       "    }\n",
       "</style>\n",
       "<table border=\"1\" class=\"dataframe\">\n",
       "  <thead>\n",
       "    <tr style=\"text-align: right;\">\n",
       "      <th></th>\n",
       "      <th>family_name</th>\n",
       "      <th>surname</th>\n",
       "      <th>gender</th>\n",
       "      <th>province_id</th>\n",
       "      <th>department_id</th>\n",
       "      <th>circuit_id</th>\n",
       "      <th>departamento_nombre</th>\n",
       "      <th>provincia_nombre</th>\n",
       "      <th>region_nombre</th>\n",
       "      <th>region_id</th>\n",
       "    </tr>\n",
       "  </thead>\n",
       "  <tbody>\n",
       "    <tr>\n",
       "      <th>0</th>\n",
       "      <td>SERIO</td>\n",
       "      <td>SERIO</td>\n",
       "      <td>F</td>\n",
       "      <td>02</td>\n",
       "      <td>02049</td>\n",
       "      <td>0080</td>\n",
       "      <td>Comuna 7</td>\n",
       "      <td>Ciudad Autónoma de Buenos Aires</td>\n",
       "      <td>Centro</td>\n",
       "      <td>03</td>\n",
       "    </tr>\n",
       "    <tr>\n",
       "      <th>1</th>\n",
       "      <td>MALVICH</td>\n",
       "      <td>MALVICH</td>\n",
       "      <td>F</td>\n",
       "      <td>02</td>\n",
       "      <td>02049</td>\n",
       "      <td>0082</td>\n",
       "      <td>Comuna 7</td>\n",
       "      <td>Ciudad Autónoma de Buenos Aires</td>\n",
       "      <td>Centro</td>\n",
       "      <td>03</td>\n",
       "    </tr>\n",
       "    <tr>\n",
       "      <th>2</th>\n",
       "      <td>CREIMAN</td>\n",
       "      <td>CREIMAN</td>\n",
       "      <td>F</td>\n",
       "      <td>02</td>\n",
       "      <td>02049</td>\n",
       "      <td>0083</td>\n",
       "      <td>Comuna 7</td>\n",
       "      <td>Ciudad Autónoma de Buenos Aires</td>\n",
       "      <td>Centro</td>\n",
       "      <td>03</td>\n",
       "    </tr>\n",
       "    <tr>\n",
       "      <th>3</th>\n",
       "      <td>AVILA</td>\n",
       "      <td>AVILA</td>\n",
       "      <td>F</td>\n",
       "      <td>02</td>\n",
       "      <td>02049</td>\n",
       "      <td>0083</td>\n",
       "      <td>Comuna 7</td>\n",
       "      <td>Ciudad Autónoma de Buenos Aires</td>\n",
       "      <td>Centro</td>\n",
       "      <td>03</td>\n",
       "    </tr>\n",
       "    <tr>\n",
       "      <th>4</th>\n",
       "      <td>CATALDO</td>\n",
       "      <td>CATALDO</td>\n",
       "      <td>F</td>\n",
       "      <td>02</td>\n",
       "      <td>02049</td>\n",
       "      <td>0081</td>\n",
       "      <td>Comuna 7</td>\n",
       "      <td>Ciudad Autónoma de Buenos Aires</td>\n",
       "      <td>Centro</td>\n",
       "      <td>03</td>\n",
       "    </tr>\n",
       "  </tbody>\n",
       "</table>\n",
       "</div>"
      ],
      "text/plain": [
       "  family_name  surname gender province_id department_id circuit_id  \\\n",
       "0       SERIO    SERIO      F          02         02049       0080   \n",
       "1     MALVICH  MALVICH      F          02         02049       0082   \n",
       "2     CREIMAN  CREIMAN      F          02         02049       0083   \n",
       "3       AVILA    AVILA      F          02         02049       0083   \n",
       "4     CATALDO  CATALDO      F          02         02049       0081   \n",
       "\n",
       "  departamento_nombre                 provincia_nombre region_nombre region_id  \n",
       "0            Comuna 7  Ciudad Autónoma de Buenos Aires        Centro        03  \n",
       "1            Comuna 7  Ciudad Autónoma de Buenos Aires        Centro        03  \n",
       "2            Comuna 7  Ciudad Autónoma de Buenos Aires        Centro        03  \n",
       "3            Comuna 7  Ciudad Autónoma de Buenos Aires        Centro        03  \n",
       "4            Comuna 7  Ciudad Autónoma de Buenos Aires        Centro        03  "
      ]
     },
     "execution_count": 18,
     "metadata": {},
     "output_type": "execute_result"
    }
   ],
   "source": [
    "df.head()"
   ]
  },
  {
   "cell_type": "code",
   "execution_count": 19,
   "id": "15c7c4d2",
   "metadata": {},
   "outputs": [
    {
     "name": "stdout",
     "output_type": "stream",
     "text": [
      "\u001b[32mget_isonymic_data_by_cells -> processed: 0\u001b[0m\n",
      "\u001b[32mget_isonymic_data_by_cells -> processed: 0\u001b[0m\n",
      "\u001b[32mget_isonymic_data_by_cells -> processed: 0\u001b[0m\n",
      "\u001b[32mget_isonymic_data_by_cells -> processed: 0\u001b[0m\n",
      "\u001b[32mget_isonymic_data_by_cells -> processed: 0\u001b[0m\n"
     ]
    }
   ],
   "source": [
    "regional_data = []\n",
    "for i, region_slice in df.groupby(\"region_nombre\"):\n",
    "    #print(region_slice.head())\n",
    "    regional_data.append(\n",
    "        isonymic.get_isonymic_data_by_cells(region_slice[['surname', 'region_nombre']], 'region_nombre')\n",
    "    )"
   ]
  },
  {
   "cell_type": "code",
   "execution_count": 20,
   "id": "cf06f989",
   "metadata": {},
   "outputs": [],
   "source": [
    "df_regional = pandas.concat(regional_data)"
   ]
  },
  {
   "cell_type": "code",
   "execution_count": 21,
   "id": "76f238a2",
   "metadata": {},
   "outputs": [],
   "source": [
    "df_regional['region_code'] = df_regional['cell_id'].apply(\n",
    "    lambda region_name: utils.REGION_CODE_BY_REGION_NAME.get(region_name, None))"
   ]
  },
  {
   "cell_type": "code",
   "execution_count": 22,
   "id": "92f76c46",
   "metadata": {},
   "outputs": [
    {
     "data": {
      "text/html": [
       "<div>\n",
       "<style scoped>\n",
       "    .dataframe tbody tr th:only-of-type {\n",
       "        vertical-align: middle;\n",
       "    }\n",
       "\n",
       "    .dataframe tbody tr th {\n",
       "        vertical-align: top;\n",
       "    }\n",
       "\n",
       "    .dataframe thead th {\n",
       "        text-align: right;\n",
       "    }\n",
       "</style>\n",
       "<table border=\"1\" class=\"dataframe\">\n",
       "  <thead>\n",
       "    <tr style=\"text-align: right;\">\n",
       "      <th></th>\n",
       "      <th>n</th>\n",
       "      <th>ins</th>\n",
       "      <th>A</th>\n",
       "      <th>B</th>\n",
       "      <th>fishers_alpha</th>\n",
       "      <th>fst</th>\n",
       "      <th>cell_id</th>\n",
       "      <th>region_code</th>\n",
       "    </tr>\n",
       "  </thead>\n",
       "  <tbody>\n",
       "    <tr>\n",
       "      <th>0</th>\n",
       "      <td>22417577</td>\n",
       "      <td>0.001706</td>\n",
       "      <td>0.002996</td>\n",
       "      <td>0.077098</td>\n",
       "      <td>586.235451</td>\n",
       "      <td>0.000426</td>\n",
       "      <td>Centro</td>\n",
       "      <td>03</td>\n",
       "    </tr>\n",
       "    <tr>\n",
       "      <th>0</th>\n",
       "      <td>2412848</td>\n",
       "      <td>0.002682</td>\n",
       "      <td>0.007058</td>\n",
       "      <td>0.081290</td>\n",
       "      <td>372.833131</td>\n",
       "      <td>0.000671</td>\n",
       "      <td>Cuyo</td>\n",
       "      <td>04</td>\n",
       "    </tr>\n",
       "    <tr>\n",
       "      <th>0</th>\n",
       "      <td>3278322</td>\n",
       "      <td>0.003888</td>\n",
       "      <td>0.006052</td>\n",
       "      <td>0.114092</td>\n",
       "      <td>257.201336</td>\n",
       "      <td>0.000972</td>\n",
       "      <td>NEA</td>\n",
       "      <td>02</td>\n",
       "    </tr>\n",
       "    <tr>\n",
       "      <th>0</th>\n",
       "      <td>4291955</td>\n",
       "      <td>0.003107</td>\n",
       "      <td>0.004062</td>\n",
       "      <td>0.086894</td>\n",
       "      <td>321.845213</td>\n",
       "      <td>0.000777</td>\n",
       "      <td>NOA</td>\n",
       "      <td>01</td>\n",
       "    </tr>\n",
       "    <tr>\n",
       "      <th>0</th>\n",
       "      <td>1928252</td>\n",
       "      <td>0.001741</td>\n",
       "      <td>0.013674</td>\n",
       "      <td>0.066750</td>\n",
       "      <td>574.282295</td>\n",
       "      <td>0.000435</td>\n",
       "      <td>Patagonia</td>\n",
       "      <td>05</td>\n",
       "    </tr>\n",
       "  </tbody>\n",
       "</table>\n",
       "</div>"
      ],
      "text/plain": [
       "          n       ins         A         B  fishers_alpha       fst    cell_id  \\\n",
       "0  22417577  0.001706  0.002996  0.077098     586.235451  0.000426     Centro   \n",
       "0   2412848  0.002682  0.007058  0.081290     372.833131  0.000671       Cuyo   \n",
       "0   3278322  0.003888  0.006052  0.114092     257.201336  0.000972        NEA   \n",
       "0   4291955  0.003107  0.004062  0.086894     321.845213  0.000777        NOA   \n",
       "0   1928252  0.001741  0.013674  0.066750     574.282295  0.000435  Patagonia   \n",
       "\n",
       "  region_code  \n",
       "0          03  \n",
       "0          04  \n",
       "0          02  \n",
       "0          01  \n",
       "0          05  "
      ]
     },
     "execution_count": 22,
     "metadata": {},
     "output_type": "execute_result"
    }
   ],
   "source": [
    "df_regional"
   ]
  },
  {
   "cell_type": "code",
   "execution_count": 23,
   "id": "3309e83a",
   "metadata": {},
   "outputs": [],
   "source": [
    "df_regional = df_regional.rename(columns={'cell_id': 'name', 'region_code': 'code'})"
   ]
  },
  {
   "cell_type": "code",
   "execution_count": 24,
   "id": "a948c290",
   "metadata": {},
   "outputs": [
    {
     "data": {
      "text/html": [
       "<div>\n",
       "<style scoped>\n",
       "    .dataframe tbody tr th:only-of-type {\n",
       "        vertical-align: middle;\n",
       "    }\n",
       "\n",
       "    .dataframe tbody tr th {\n",
       "        vertical-align: top;\n",
       "    }\n",
       "\n",
       "    .dataframe thead th {\n",
       "        text-align: right;\n",
       "    }\n",
       "</style>\n",
       "<table border=\"1\" class=\"dataframe\">\n",
       "  <thead>\n",
       "    <tr style=\"text-align: right;\">\n",
       "      <th></th>\n",
       "      <th>n</th>\n",
       "      <th>ins</th>\n",
       "      <th>A</th>\n",
       "      <th>B</th>\n",
       "      <th>fishers_alpha</th>\n",
       "      <th>fst</th>\n",
       "      <th>name</th>\n",
       "      <th>code</th>\n",
       "    </tr>\n",
       "  </thead>\n",
       "  <tbody>\n",
       "    <tr>\n",
       "      <th>0</th>\n",
       "      <td>22417577</td>\n",
       "      <td>0.001706</td>\n",
       "      <td>0.002996</td>\n",
       "      <td>0.077098</td>\n",
       "      <td>586.235451</td>\n",
       "      <td>0.000426</td>\n",
       "      <td>Centro</td>\n",
       "      <td>03</td>\n",
       "    </tr>\n",
       "    <tr>\n",
       "      <th>0</th>\n",
       "      <td>2412848</td>\n",
       "      <td>0.002682</td>\n",
       "      <td>0.007058</td>\n",
       "      <td>0.081290</td>\n",
       "      <td>372.833131</td>\n",
       "      <td>0.000671</td>\n",
       "      <td>Cuyo</td>\n",
       "      <td>04</td>\n",
       "    </tr>\n",
       "    <tr>\n",
       "      <th>0</th>\n",
       "      <td>3278322</td>\n",
       "      <td>0.003888</td>\n",
       "      <td>0.006052</td>\n",
       "      <td>0.114092</td>\n",
       "      <td>257.201336</td>\n",
       "      <td>0.000972</td>\n",
       "      <td>NEA</td>\n",
       "      <td>02</td>\n",
       "    </tr>\n",
       "    <tr>\n",
       "      <th>0</th>\n",
       "      <td>4291955</td>\n",
       "      <td>0.003107</td>\n",
       "      <td>0.004062</td>\n",
       "      <td>0.086894</td>\n",
       "      <td>321.845213</td>\n",
       "      <td>0.000777</td>\n",
       "      <td>NOA</td>\n",
       "      <td>01</td>\n",
       "    </tr>\n",
       "    <tr>\n",
       "      <th>0</th>\n",
       "      <td>1928252</td>\n",
       "      <td>0.001741</td>\n",
       "      <td>0.013674</td>\n",
       "      <td>0.066750</td>\n",
       "      <td>574.282295</td>\n",
       "      <td>0.000435</td>\n",
       "      <td>Patagonia</td>\n",
       "      <td>05</td>\n",
       "    </tr>\n",
       "  </tbody>\n",
       "</table>\n",
       "</div>"
      ],
      "text/plain": [
       "          n       ins         A         B  fishers_alpha       fst       name  \\\n",
       "0  22417577  0.001706  0.002996  0.077098     586.235451  0.000426     Centro   \n",
       "0   2412848  0.002682  0.007058  0.081290     372.833131  0.000671       Cuyo   \n",
       "0   3278322  0.003888  0.006052  0.114092     257.201336  0.000972        NEA   \n",
       "0   4291955  0.003107  0.004062  0.086894     321.845213  0.000777        NOA   \n",
       "0   1928252  0.001741  0.013674  0.066750     574.282295  0.000435  Patagonia   \n",
       "\n",
       "  code  \n",
       "0   03  \n",
       "0   04  \n",
       "0   02  \n",
       "0   01  \n",
       "0   05  "
      ]
     },
     "execution_count": 24,
     "metadata": {},
     "output_type": "execute_result"
    }
   ],
   "source": [
    "df_regional"
   ]
  },
  {
   "cell_type": "code",
   "execution_count": 88,
   "id": "c1c4e2b2",
   "metadata": {},
   "outputs": [
    {
     "data": {
      "text/plain": [
       "'[{\"name\":\"Centro\",\"ins\":0.0017057993,\"A\":0.0029961311,\"B\":0.0770981181,\"n\":22417577,\"fishers_alpha\":586.2354510515,\"fst\":0.0004264498,\"code\":\"03\"},{\"name\":\"Cuyo\",\"ins\":0.0026821651,\"A\":0.0070584637,\"B\":0.0812902429,\"n\":2412848,\"fishers_alpha\":372.8331308023,\"fst\":0.0006705413,\"code\":\"04\"},{\"name\":\"NEA\",\"ins\":0.0038880047,\"A\":0.0060524866,\"B\":0.1140919043,\"n\":3278322,\"fishers_alpha\":257.2013356552,\"fst\":0.0009720012,\"code\":\"02\"},{\"name\":\"NOA\",\"ins\":0.0031070837,\"A\":0.0040620184,\"B\":0.0868942009,\"n\":4291955,\"fishers_alpha\":321.8452125209,\"fst\":0.0007767709,\"code\":\"01\"},{\"name\":\"Patagonia\",\"ins\":0.0017413039,\"A\":0.0136740426,\"B\":0.0667495742,\"n\":1928252,\"fishers_alpha\":574.282294893,\"fst\":0.000435326,\"code\":\"05\"}]'"
      ]
     },
     "execution_count": 88,
     "metadata": {},
     "output_type": "execute_result"
    }
   ],
   "source": [
    "df_regional.to_json(orient='records')"
   ]
  }
 ],
 "metadata": {
  "kernelspec": {
   "display_name": "Python 3 (ipykernel)",
   "language": "python",
   "name": "python3"
  },
  "language_info": {
   "codemirror_mode": {
    "name": "ipython",
    "version": 3
   },
   "file_extension": ".py",
   "mimetype": "text/x-python",
   "name": "python",
   "nbconvert_exporter": "python",
   "pygments_lexer": "ipython3",
   "version": "3.9.9"
  }
 },
 "nbformat": 4,
 "nbformat_minor": 5
}
